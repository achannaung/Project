{
 "cells": [
  {
   "cell_type": "markdown",
   "id": "66c0ffbe-508a-42b7-a9e8-ec9c701fe314",
   "metadata": {},
   "source": [
    "##  Mean, Variance, Std"
   ]
  },
  {
   "cell_type": "code",
   "execution_count": 4,
   "id": "cb8a8adf-a3d4-4b39-b8c1-37a926d031d9",
   "metadata": {},
   "outputs": [],
   "source": [
    "import numpy as np\n",
    "\n",
    "def calculate(list):\n",
    "    if len(list) != 9:\n",
    "        raise ValueError('List must contain nine numbers.')\n",
    "    else:\n",
    "        matrix = np.array(list).reshape(3, 3)\n",
    "\n",
    "    mean = [(matrix.mean(axis=0).tolist()), (matrix.mean(axis=1).tolist()),\n",
    "            (matrix.flatten().mean())]\n",
    "\n",
    "    var = [(matrix.var(axis=0).tolist()), (matrix.var(axis=1).tolist()),\n",
    "           (matrix.flatten().var())]\n",
    "\n",
    "    std = [(matrix.std(axis=0).tolist()), (matrix.std(axis=1).tolist()),\n",
    "           (matrix.flatten().std())]\n",
    "\n",
    "    max = [(matrix.max(axis=0).tolist()), (matrix.max(axis=1).tolist()),\n",
    "           (matrix.flatten().max())]\n",
    "\n",
    "    min = [(matrix.min(axis=0).tolist()), (matrix.min(axis=1).tolist()),\n",
    "           (matrix.flatten().min())]\n",
    "\n",
    "    sum = [(matrix.sum(axis=0).tolist()), (matrix.sum(axis=1).tolist()),\n",
    "           (matrix.flatten().sum())]\n",
    "\n",
    "    calculations = {\n",
    "        \"mean\": mean,\n",
    "        \"variance\": var,\n",
    "        \"standard deviation\": std,\n",
    "        \"max\": max,\n",
    "        \"min\": min,\n",
    "        \"sum\": sum,\n",
    "    }\n",
    "    return calculations"
   ]
  },
  {
   "cell_type": "code",
   "execution_count": 6,
   "id": "8d961c8a-0d98-4d8b-ab65-0ecdd75b1edd",
   "metadata": {},
   "outputs": [],
   "source": [
    "import numpy as np"
   ]
  },
  {
   "cell_type": "code",
   "execution_count": 10,
   "id": "dc6bda4b-ee44-45b3-ad66-4c51bc39f4b1",
   "metadata": {},
   "outputs": [],
   "source": [
    "mylist = [1,2,3,4,5,6,7,8,9]\n",
    "matrix = np.array(mylist).reshape(3,3)"
   ]
  },
  {
   "cell_type": "markdown",
   "id": "81e23694-da90-48bf-8727-d5c046087142",
   "metadata": {},
   "source": [
    "```python\n",
    "{\n",
    "  'mean': [axis1, axis2, flattened],\n",
    "  'variance': [axis1, axis2, flattened],\n",
    "  'standard deviation': [axis1, axis2, flattened],\n",
    "  'max': [axis1, axis2, flattened],\n",
    "  'min': [axis1, axis2, flattened],\n",
    "  'sum': [axis1, axis2, flattened]\n",
    "}\n",
    "```"
   ]
  },
  {
   "cell_type": "markdown",
   "id": "0a10da10-21ad-46c4-b664-1a3599be59fd",
   "metadata": {},
   "source": [
    "## Mean"
   ]
  },
  {
   "cell_type": "code",
   "execution_count": 13,
   "id": "c27ef6e7-9683-4d6e-94af-0a00a25a366c",
   "metadata": {},
   "outputs": [
    {
     "data": {
      "text/plain": [
       "[[4.0, 5.0, 6.0], [2.0, 5.0, 8.0], 5.0]"
      ]
     },
     "execution_count": 13,
     "metadata": {},
     "output_type": "execute_result"
    }
   ],
   "source": [
    "mean = [(matrix.mean(axis=0).tolist()), (matrix.mean(axis=1).tolist()),(matrix.flatten().mean())]\n",
    "mean"
   ]
  },
  {
   "cell_type": "markdown",
   "id": "39c347a4-9f9d-492d-8f1b-4f2c78574e6a",
   "metadata": {},
   "source": [
    "## Variance"
   ]
  },
  {
   "cell_type": "code",
   "execution_count": 14,
   "id": "eacf8147-264f-40f1-a1cb-dca32144933b",
   "metadata": {
    "tags": []
   },
   "outputs": [
    {
     "data": {
      "text/plain": [
       "[[6.0, 6.0, 6.0],\n",
       " [0.6666666666666666, 0.6666666666666666, 0.6666666666666666],\n",
       " 6.666666666666667]"
      ]
     },
     "execution_count": 14,
     "metadata": {},
     "output_type": "execute_result"
    }
   ],
   "source": [
    "var = [(matrix.var(axis=0).tolist()), (matrix.var(axis=1).tolist()),(matrix.flatten().var())]\n",
    "var"
   ]
  },
  {
   "cell_type": "markdown",
   "id": "689bbf18-817a-450f-bf09-c25ffa0a4890",
   "metadata": {},
   "source": [
    "## Standard Deviation "
   ]
  },
  {
   "cell_type": "code",
   "execution_count": 19,
   "id": "7bcfc4cc-e87a-4858-bbf7-440c5ad8e1fb",
   "metadata": {
    "tags": []
   },
   "outputs": [
    {
     "data": {
      "text/plain": [
       "[[2.449489742783178, 2.449489742783178, 2.449489742783178],\n",
       " [0.816496580927726, 0.816496580927726, 0.816496580927726],\n",
       " 2.581988897471611]"
      ]
     },
     "execution_count": 19,
     "metadata": {},
     "output_type": "execute_result"
    }
   ],
   "source": [
    "std = [(matrix.std(axis=0).tolist()), (matrix.std(axis=1).tolist()), (matrix.flatten().std())]\n",
    "std"
   ]
  },
  {
   "cell_type": "markdown",
   "id": "726f307c-d9ae-4440-80a9-d8d3894b8033",
   "metadata": {},
   "source": [
    "## Maximum"
   ]
  },
  {
   "cell_type": "code",
   "execution_count": 30,
   "id": "ef3df2c4-9c4b-42a2-b0ce-f43bc8b86989",
   "metadata": {},
   "outputs": [
    {
     "data": {
      "text/plain": [
       "[[7, 8, 9], [7, 8, 9], 9]"
      ]
     },
     "execution_count": 30,
     "metadata": {},
     "output_type": "execute_result"
    }
   ],
   "source": [
    "max = [(matrix.max(axis=0).tolist()), (matrix.max(axis=0).tolist()), (matrix.flatten().max())]\n",
    "max"
   ]
  },
  {
   "cell_type": "markdown",
   "id": "5714aa07-27d6-4140-bbbb-4d270eae1fee",
   "metadata": {},
   "source": [
    "## Minimum"
   ]
  },
  {
   "cell_type": "code",
   "execution_count": 47,
   "id": "0e62778a-5fe9-4a67-b252-22a7b95d9e7b",
   "metadata": {},
   "outputs": [
    {
     "data": {
      "text/plain": [
       "[[1, 2, 3], ([1, 4, 7], 1)]"
      ]
     },
     "execution_count": 47,
     "metadata": {},
     "output_type": "execute_result"
    }
   ],
   "source": [
    "min = [(matrix.min(axis=0).tolist()), (matrix.min(axis=1).tolist(), (matrix.flatten().min()))]\n",
    "min"
   ]
  },
  {
   "cell_type": "markdown",
   "id": "2b8b3f08-ba2f-4677-bc5c-1335fb37f694",
   "metadata": {},
   "source": [
    "## Sum"
   ]
  },
  {
   "cell_type": "code",
   "execution_count": 46,
   "id": "56a2ed49-dee7-48ab-9072-302118760b81",
   "metadata": {},
   "outputs": [
    {
     "data": {
      "text/plain": [
       "[[12, 15, 18], [6, 15, 24], 45]"
      ]
     },
     "execution_count": 46,
     "metadata": {},
     "output_type": "execute_result"
    }
   ],
   "source": [
    "s = [(matrix.sum(axis=0).tolist()), (matrix.sum(axis=1).tolist()), (matrix.flatten().sum())]\n",
    "s"
   ]
  },
  {
   "cell_type": "code",
   "execution_count": 52,
   "id": "8f08b45e-2940-4198-8a53-9b38e0e99fc4",
   "metadata": {},
   "outputs": [],
   "source": [
    "mean = [(matrix.mean(axis=0).tolist()), (matrix.mean(axis=1).tolist()),(matrix.flatten().mean())]\n",
    "var = [(matrix.var(axis=0).tolist()), (matrix.var(axis=1).tolist()),(matrix.flatten().var())]\n",
    "std = [(matrix.std(axis=0).tolist()), (matrix.std(axis=1).tolist()), (matrix.flatten().std())]\n",
    "max = [(matrix.max(axis=0).tolist()), (matrix.max(axis=0).tolist()), (matrix.flatten().max())]\n",
    "min = [(matrix.min(axis=0).tolist()), (matrix.min(axis=1).tolist(), (matrix.flatten().min()))]\n",
    "s = [(matrix.sum(axis=0).tolist()), (matrix.sum(axis=1).tolist()), (matrix.flatten().sum())]"
   ]
  },
  {
   "cell_type": "code",
   "execution_count": 54,
   "id": "c6362379-19a4-4c51-a18f-78e3b64a3ff9",
   "metadata": {},
   "outputs": [],
   "source": [
    "calculations = { 'mean': mean,\n",
    " 'variance': var,\n",
    " 'standard-deviation':std,\n",
    " 'maximum':max,\n",
    " 'minimum':min,\n",
    " 'sum':s\n",
    "}"
   ]
  },
  {
   "cell_type": "markdown",
   "id": "154a2b5e-fd1c-4ef3-bcad-5fda8fc97fe6",
   "metadata": {},
   "source": [
    "# Final Codes"
   ]
  },
  {
   "cell_type": "code",
   "execution_count": 101,
   "id": "603c28a7-1bae-4d55-bfa8-9ccb8821c8d5",
   "metadata": {},
   "outputs": [
    {
     "name": "stdin",
     "output_type": "stream",
     "text": [
      "Enter 9 number only using split with comma ' , ': 1,2,3,4,5,6,7,8,9\n"
     ]
    },
    {
     "data": {
      "text/plain": [
       "{'mean': [[4.0, 5.0, 6.0], [2.0, 5.0, 8.0], 5.0],\n",
       " 'variance': [[6.0, 6.0, 6.0],\n",
       "  [0.6666666666666666, 0.6666666666666666, 0.6666666666666666],\n",
       "  6.666666666666667],\n",
       " 'standard-deviation': [[2.449489742783178,\n",
       "   2.449489742783178,\n",
       "   2.449489742783178],\n",
       "  [0.816496580927726, 0.816496580927726, 0.816496580927726],\n",
       "  2.581988897471611],\n",
       " 'maximum': [[7, 8, 9], [7, 8, 9], 9],\n",
       " 'minimum': [[1, 2, 3], ([1, 4, 7], 1)],\n",
       " 'sum': [[12, 15, 18], [6, 15, 24], 45]}"
      ]
     },
     "execution_count": 101,
     "metadata": {},
     "output_type": "execute_result"
    }
   ],
   "source": [
    "# import library\n",
    "import numpy as np\n",
    "\n",
    "# input list\n",
    "mylist = list(map(int,input('Enter 9 number only using split with comma \\' , \\':').strip().split(',')))\n",
    "matrix = np.array(mylist).reshape(3,3)\n",
    "mylist\n",
    "\n",
    "# mean, var, std, max, min, min, sum calculator\n",
    "mean = [(matrix.mean(axis=0).tolist()), (matrix.mean(axis=1).tolist()),(matrix.flatten().mean())]\n",
    "var = [(matrix.var(axis=0).tolist()), (matrix.var(axis=1).tolist()),(matrix.flatten().var())]\n",
    "std = [(matrix.std(axis=0).tolist()), (matrix.std(axis=1).tolist()), (matrix.flatten().std())]\n",
    "max = [(matrix.max(axis=0).tolist()), (matrix.max(axis=0).tolist()), (matrix.flatten().max())]\n",
    "min = [(matrix.min(axis=0).tolist()), (matrix.min(axis=1).tolist(), (matrix.flatten().min()))]\n",
    "s = [(matrix.sum(axis=0).tolist()), (matrix.sum(axis=1).tolist()), (matrix.flatten().sum())]\n",
    "\n",
    "# rename\n",
    "calculations = { 'mean': mean,\n",
    " 'variance': var,\n",
    " 'standard-deviation':std,\n",
    " 'maximum':max,\n",
    " 'minimum':min,\n",
    " 'sum':s\n",
    "}\n",
    "# output\n",
    "calculations"
   ]
  },
  {
   "cell_type": "code",
   "execution_count": null,
   "id": "5d403387-8483-44c1-b232-b7f1bd95be8d",
   "metadata": {},
   "outputs": [],
   "source": []
  }
 ],
 "metadata": {
  "kernelspec": {
   "display_name": "Python 3 (ipykernel)",
   "language": "python",
   "name": "python3"
  },
  "language_info": {
   "codemirror_mode": {
    "name": "ipython",
    "version": 3
   },
   "file_extension": ".py",
   "mimetype": "text/x-python",
   "name": "python",
   "nbconvert_exporter": "python",
   "pygments_lexer": "ipython3",
   "version": "3.10.6"
  }
 },
 "nbformat": 4,
 "nbformat_minor": 5
}
