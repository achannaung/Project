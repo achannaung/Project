{
 "cells": [
  {
   "cell_type": "markdown",
   "id": "58087071-cfad-4ba1-8c65-7a6cc67681b7",
   "metadata": {},
   "source": [
    "<h1 style='color:red;text-align:center'>Demographic Analyzer</h1>"
   ]
  },
  {
   "cell_type": "markdown",
   "id": "ac43ebda-f199-41d4-84b8-cf4308bb92d2",
   "metadata": {},
   "source": [
    "You must use Pandas to answer the following questions:\n",
    "\n",
    "1. How many people of each race are represented in this dataset? This should be a Pandas series with race names as the index labels. (race column)\n",
    "\n",
    "2. What is the average age of men?\n",
    "\n",
    "3. What is the percentage of people who have a Bachelor's degree?\n",
    "\n",
    "4. What percentage of people with advanced education (Bachelors, Masters, or Doctorate) make more than 50K?\n",
    "\n",
    "5. What percentage of people without advanced education make more than 50K?\n",
    "\n",
    "6. What is the minimum number of hours a person works per week?\n",
    "\n",
    "7. What percentage of the people who work the minimum number of hours per week have a salary of more than 50K?\n",
    "\n",
    "8. What country has the highest percentage of people that earn >50K and what is that percentage?\n",
    "\n",
    "9. Identify the most popular occupation for those who earn >50K in India.\n",
    "\n",
    "*Use the starter code in the file demographic_data_analyzer. Update the code so all variables set to \"None\" are set to the appropriate calculation or code. Round all decimals to the nearest tenth.*\n"
   ]
  },
  {
   "cell_type": "code",
   "execution_count": 1,
   "id": "b07cb1c3-8ab1-4c02-a691-e9cc8085d211",
   "metadata": {},
   "outputs": [
    {
     "data": {
      "text/html": [
       "<div>\n",
       "<style scoped>\n",
       "    .dataframe tbody tr th:only-of-type {\n",
       "        vertical-align: middle;\n",
       "    }\n",
       "\n",
       "    .dataframe tbody tr th {\n",
       "        vertical-align: top;\n",
       "    }\n",
       "\n",
       "    .dataframe thead th {\n",
       "        text-align: right;\n",
       "    }\n",
       "</style>\n",
       "<table border=\"1\" class=\"dataframe\">\n",
       "  <thead>\n",
       "    <tr style=\"text-align: right;\">\n",
       "      <th></th>\n",
       "      <th>age</th>\n",
       "      <th>workclass</th>\n",
       "      <th>fnlwgt</th>\n",
       "      <th>education</th>\n",
       "      <th>education-num</th>\n",
       "      <th>marital-status</th>\n",
       "      <th>occupation</th>\n",
       "      <th>relationship</th>\n",
       "      <th>race</th>\n",
       "      <th>sex</th>\n",
       "      <th>capital-gain</th>\n",
       "      <th>capital-loss</th>\n",
       "      <th>hours-per-week</th>\n",
       "      <th>native-country</th>\n",
       "      <th>salary</th>\n",
       "    </tr>\n",
       "  </thead>\n",
       "  <tbody>\n",
       "    <tr>\n",
       "      <th>0</th>\n",
       "      <td>39</td>\n",
       "      <td>State-gov</td>\n",
       "      <td>77516</td>\n",
       "      <td>Bachelors</td>\n",
       "      <td>13</td>\n",
       "      <td>Never-married</td>\n",
       "      <td>Adm-clerical</td>\n",
       "      <td>Not-in-family</td>\n",
       "      <td>White</td>\n",
       "      <td>Male</td>\n",
       "      <td>2174</td>\n",
       "      <td>0</td>\n",
       "      <td>40</td>\n",
       "      <td>United-States</td>\n",
       "      <td>&lt;=50K</td>\n",
       "    </tr>\n",
       "    <tr>\n",
       "      <th>1</th>\n",
       "      <td>50</td>\n",
       "      <td>Self-emp-not-inc</td>\n",
       "      <td>83311</td>\n",
       "      <td>Bachelors</td>\n",
       "      <td>13</td>\n",
       "      <td>Married-civ-spouse</td>\n",
       "      <td>Exec-managerial</td>\n",
       "      <td>Husband</td>\n",
       "      <td>White</td>\n",
       "      <td>Male</td>\n",
       "      <td>0</td>\n",
       "      <td>0</td>\n",
       "      <td>13</td>\n",
       "      <td>United-States</td>\n",
       "      <td>&lt;=50K</td>\n",
       "    </tr>\n",
       "    <tr>\n",
       "      <th>2</th>\n",
       "      <td>38</td>\n",
       "      <td>Private</td>\n",
       "      <td>215646</td>\n",
       "      <td>HS-grad</td>\n",
       "      <td>9</td>\n",
       "      <td>Divorced</td>\n",
       "      <td>Handlers-cleaners</td>\n",
       "      <td>Not-in-family</td>\n",
       "      <td>White</td>\n",
       "      <td>Male</td>\n",
       "      <td>0</td>\n",
       "      <td>0</td>\n",
       "      <td>40</td>\n",
       "      <td>United-States</td>\n",
       "      <td>&lt;=50K</td>\n",
       "    </tr>\n",
       "    <tr>\n",
       "      <th>3</th>\n",
       "      <td>53</td>\n",
       "      <td>Private</td>\n",
       "      <td>234721</td>\n",
       "      <td>11th</td>\n",
       "      <td>7</td>\n",
       "      <td>Married-civ-spouse</td>\n",
       "      <td>Handlers-cleaners</td>\n",
       "      <td>Husband</td>\n",
       "      <td>Black</td>\n",
       "      <td>Male</td>\n",
       "      <td>0</td>\n",
       "      <td>0</td>\n",
       "      <td>40</td>\n",
       "      <td>United-States</td>\n",
       "      <td>&lt;=50K</td>\n",
       "    </tr>\n",
       "    <tr>\n",
       "      <th>4</th>\n",
       "      <td>28</td>\n",
       "      <td>Private</td>\n",
       "      <td>338409</td>\n",
       "      <td>Bachelors</td>\n",
       "      <td>13</td>\n",
       "      <td>Married-civ-spouse</td>\n",
       "      <td>Prof-specialty</td>\n",
       "      <td>Wife</td>\n",
       "      <td>Black</td>\n",
       "      <td>Female</td>\n",
       "      <td>0</td>\n",
       "      <td>0</td>\n",
       "      <td>40</td>\n",
       "      <td>Cuba</td>\n",
       "      <td>&lt;=50K</td>\n",
       "    </tr>\n",
       "  </tbody>\n",
       "</table>\n",
       "</div>"
      ],
      "text/plain": [
       "   age         workclass  fnlwgt  education  education-num  \\\n",
       "0   39         State-gov   77516  Bachelors             13   \n",
       "1   50  Self-emp-not-inc   83311  Bachelors             13   \n",
       "2   38           Private  215646    HS-grad              9   \n",
       "3   53           Private  234721       11th              7   \n",
       "4   28           Private  338409  Bachelors             13   \n",
       "\n",
       "       marital-status         occupation   relationship   race     sex  \\\n",
       "0       Never-married       Adm-clerical  Not-in-family  White    Male   \n",
       "1  Married-civ-spouse    Exec-managerial        Husband  White    Male   \n",
       "2            Divorced  Handlers-cleaners  Not-in-family  White    Male   \n",
       "3  Married-civ-spouse  Handlers-cleaners        Husband  Black    Male   \n",
       "4  Married-civ-spouse     Prof-specialty           Wife  Black  Female   \n",
       "\n",
       "   capital-gain  capital-loss  hours-per-week native-country salary  \n",
       "0          2174             0              40  United-States  <=50K  \n",
       "1             0             0              13  United-States  <=50K  \n",
       "2             0             0              40  United-States  <=50K  \n",
       "3             0             0              40  United-States  <=50K  \n",
       "4             0             0              40           Cuba  <=50K  "
      ]
     },
     "execution_count": 1,
     "metadata": {},
     "output_type": "execute_result"
    }
   ],
   "source": [
    "import pandas as pd\n",
    "df = pd.read_csv('adult.data.csv')\n",
    "df.head()"
   ]
  },
  {
   "cell_type": "code",
   "execution_count": 2,
   "id": "e5806b8f-2e03-4c69-9712-a90f3ef764de",
   "metadata": {},
   "outputs": [
    {
     "data": {
      "text/plain": [
       "(32561, 15)"
      ]
     },
     "execution_count": 2,
     "metadata": {},
     "output_type": "execute_result"
    }
   ],
   "source": [
    "df.shape"
   ]
  },
  {
   "cell_type": "code",
   "execution_count": 3,
   "id": "93159a49-684b-49f4-adae-1677831896d9",
   "metadata": {},
   "outputs": [
    {
     "data": {
      "text/plain": [
       "Index(['age', 'workclass', 'fnlwgt', 'education', 'education-num',\n",
       "       'marital-status', 'occupation', 'relationship', 'race', 'sex',\n",
       "       'capital-gain', 'capital-loss', 'hours-per-week', 'native-country',\n",
       "       'salary'],\n",
       "      dtype='object')"
      ]
     },
     "execution_count": 3,
     "metadata": {},
     "output_type": "execute_result"
    }
   ],
   "source": [
    "df.columns"
   ]
  },
  {
   "cell_type": "markdown",
   "id": "ec9834b2-63c3-4e11-89f8-e6bb6d6bb189",
   "metadata": {},
   "source": [
    "### (1) How many people of each race are represented in this dataset? This should be a Pandas series with race names as the index labels. (race column)"
   ]
  },
  {
   "cell_type": "code",
   "execution_count": 4,
   "id": "0b5bbfef-dc20-4b59-a1f4-b76aedc0a3f6",
   "metadata": {},
   "outputs": [
    {
     "data": {
      "text/plain": [
       "White                 27816\n",
       "Black                  3124\n",
       "Asian-Pac-Islander     1039\n",
       "Amer-Indian-Eskimo      311\n",
       "Other                   271\n",
       "Name: race, dtype: int64"
      ]
     },
     "execution_count": 4,
     "metadata": {},
     "output_type": "execute_result"
    }
   ],
   "source": [
    "df['race'].value_counts()"
   ]
  },
  {
   "cell_type": "markdown",
   "id": "28086cac-e6ef-4804-8c7f-2e38e77f1b94",
   "metadata": {},
   "source": [
    "### (2) What is the average age of men?"
   ]
  },
  {
   "cell_type": "code",
   "execution_count": 23,
   "id": "029d7564-c003-4440-ab39-97f3c8c8cfa1",
   "metadata": {},
   "outputs": [
    {
     "data": {
      "text/plain": [
       "39.43"
      ]
     },
     "execution_count": 23,
     "metadata": {},
     "output_type": "execute_result"
    }
   ],
   "source": [
    "avg_age = round(df[df['sex'] == 'Male']['age'].mean(),2)\n",
    "avg_age"
   ]
  },
  {
   "cell_type": "markdown",
   "id": "90725d79-d07f-4c01-ac88-0e1c6daaa1f6",
   "metadata": {},
   "source": [
    "### (3) What is the percentage of people who have a Bachelor's degree?"
   ]
  },
  {
   "cell_type": "code",
   "execution_count": 85,
   "id": "1602d33f-0745-4a2c-b6e9-ffaa9ed2564b",
   "metadata": {},
   "outputs": [
    {
     "name": "stdout",
     "output_type": "stream",
     "text": [
      "The percentage of Bachelor's degree: 16.45 %\n"
     ]
    }
   ],
   "source": [
    "bachelor = round(df[df['education'] == 'Bachelors'].value_counts().sum() / df.shape[0] * 100, 2)\n",
    "print('The percentage of Bachelor\\'s degree:',bachelor,'%')"
   ]
  },
  {
   "cell_type": "markdown",
   "id": "6410d6ae-0b88-4438-bfdf-2d02c98a58e1",
   "metadata": {},
   "source": [
    "### (4) What percentage of people with advanced education (Bachelors, Masters, or Doctorate) make more than 50K?"
   ]
  },
  {
   "cell_type": "code",
   "execution_count": 74,
   "id": "5f569e97-20b2-48b2-ab73-c74e7c1a0ed7",
   "metadata": {},
   "outputs": [],
   "source": [
    "ed1  = df['education'].isin(['Bachelors', 'Masters','Doctorate'])\n",
    "ed2 = df['salary'] == '>50K'"
   ]
  },
  {
   "cell_type": "code",
   "execution_count": 84,
   "id": "bd3b9df4-94d8-42b6-9055-d77a13a929e2",
   "metadata": {},
   "outputs": [
    {
     "name": "stdout",
     "output_type": "stream",
     "text": [
      "Advanced Education:  46.54 %\n"
     ]
    }
   ],
   "source": [
    "adv_edu = round((ed1 & ed2).sum() / ed1.sum() * 100, 2)\n",
    "print('Advanced Education: ',adv_edu,'%')"
   ]
  },
  {
   "cell_type": "markdown",
   "id": "5cfd99f5-54cc-433f-85ba-298c709e8e64",
   "metadata": {},
   "source": [
    "### (5) What percentage of people without advanced education make more than 50K?"
   ]
  },
  {
   "cell_type": "code",
   "execution_count": 90,
   "id": "f58587a0-9746-4ade-9a51-00d314b84b02",
   "metadata": {},
   "outputs": [
    {
     "name": "stdout",
     "output_type": "stream",
     "text": [
      "Without advanced education: 17.37 %\n"
     ]
    }
   ],
   "source": [
    "w_adv_edu = round((~ed1 & ed2).sum() / (~ed1).sum() * 100, 2)\n",
    "print('Without advanced education:',w_adv_edu,'%')"
   ]
  },
  {
   "cell_type": "markdown",
   "id": "c91a6937-1e60-4ced-badf-a8c2ccb648c1",
   "metadata": {},
   "source": [
    "### (6) What is the minimum number of hours a person works per week?"
   ]
  },
  {
   "cell_type": "code",
   "execution_count": 134,
   "id": "deb95fa7-4fac-4c25-9af8-44ae5ada145f",
   "metadata": {},
   "outputs": [
    {
     "name": "stdout",
     "output_type": "stream",
     "text": [
      "Minium number of hour is:  1 hour.\n"
     ]
    }
   ],
   "source": [
    "min_wh = df['hours-per-week'].min()\n",
    "print('Minium number of hour is: ',min_wh, 'hour.')"
   ]
  },
  {
   "cell_type": "markdown",
   "id": "29d8f687-3db8-41ab-a368-153d6fe93857",
   "metadata": {},
   "source": [
    "### (7) What percentage of the people who work the minimum number of hours per week have a salary of more than 50K?"
   ]
  },
  {
   "cell_type": "code",
   "execution_count": 185,
   "id": "f6bad80d-4e9b-406d-ba7f-177c81871681",
   "metadata": {},
   "outputs": [
    {
     "data": {
      "text/plain": [
       "10.0"
      ]
     },
     "execution_count": 185,
     "metadata": {},
     "output_type": "execute_result"
    }
   ],
   "source": [
    "min_wh1 = df['hours-per-week'] == min_wh\n",
    "s50k = df['salary'] == '>50K'\n",
    "\n",
    "(min_wh1 & s50k).sum() / min_wh1.sum() * 100"
   ]
  },
  {
   "cell_type": "markdown",
   "id": "c78241e0-7ef8-4503-a8a0-3753b3f3890f",
   "metadata": {},
   "source": [
    "### (8) What country has the highest percentage of people that earn >50K and what is that percentage?"
   ]
  },
  {
   "cell_type": "code",
   "execution_count": 184,
   "id": "432ffc49-78fa-4415-ad25-b969a9b72d72",
   "metadata": {},
   "outputs": [
    {
     "name": "stdout",
     "output_type": "stream",
     "text": [
      "Iran\n",
      "41.86\n"
     ]
    }
   ],
   "source": [
    "hpc = round(df[s50k]['native-country'].value_counts() / df['native-country'].value_counts() *100, 2).sort_values(ascending=False)\n",
    "highest_country = hpc.index[0]\n",
    "highest_percentage = hpc.iloc[0]\n",
    "\n",
    "print(highest_country)\n",
    "print(highest_percentage)"
   ]
  },
  {
   "cell_type": "markdown",
   "id": "b726dff6-dd43-46e7-983f-7061dc8b1d18",
   "metadata": {},
   "source": [
    "### (9) Identify the most popular occupation for those who earn >50K in India."
   ]
  },
  {
   "cell_type": "code",
   "execution_count": 254,
   "id": "40355ee8-b1c7-4280-894f-a06cfe2ed22d",
   "metadata": {},
   "outputs": [
    {
     "data": {
      "text/plain": [
       "'Prof-specialty'"
      ]
     },
     "execution_count": 254,
     "metadata": {},
     "output_type": "execute_result"
    }
   ],
   "source": [
    "india = df['native-country'] == 'India'\n",
    "s50k = df['salary'] == '>50K'\n",
    "\n",
    "df[india & s50k]['occupation'].value_counts().index[0]"
   ]
  },
  {
   "cell_type": "code",
   "execution_count": null,
   "id": "fa260c33-0e2c-4c7f-86ac-5ee0b8c1e7d9",
   "metadata": {},
   "outputs": [],
   "source": []
  }
 ],
 "metadata": {
  "kernelspec": {
   "display_name": "Python 3 (ipykernel)",
   "language": "python",
   "name": "python3"
  },
  "language_info": {
   "codemirror_mode": {
    "name": "ipython",
    "version": 3
   },
   "file_extension": ".py",
   "mimetype": "text/x-python",
   "name": "python",
   "nbconvert_exporter": "python",
   "pygments_lexer": "ipython3",
   "version": "3.10.6"
  }
 },
 "nbformat": 4,
 "nbformat_minor": 5
}
