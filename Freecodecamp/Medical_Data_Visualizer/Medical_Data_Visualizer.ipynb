{
 "cells": [
  {
   "cell_type": "markdown",
   "id": "2021351f-3db9-4835-b5bc-90f25385a722",
   "metadata": {},
   "source": [
    "<h1 style='font-family:verdana; color:darkblue;text-align:center;'>Medical Data Visualizer</h1>\n",
    "<p style='font-family:courier;color:red;text-align:center;font-size:20px'>Data Analysis with Python</p>"
   ]
  },
  {
   "cell_type": "code",
   "execution_count": 1,
   "id": "592ede9b-88d8-4397-961d-3cee4da14ed3",
   "metadata": {},
   "outputs": [],
   "source": [
    "import pandas as pd\n",
    "import seaborn as sns\n",
    "import matplotlib.pyplot as plt\n",
    "import numpy as np"
   ]
  },
  {
   "cell_type": "code",
   "execution_count": 2,
   "id": "2e4c96a2-36c7-4163-b46a-f364bb72d13a",
   "metadata": {},
   "outputs": [
    {
     "data": {
      "text/html": [
       "<div>\n",
       "<style scoped>\n",
       "    .dataframe tbody tr th:only-of-type {\n",
       "        vertical-align: middle;\n",
       "    }\n",
       "\n",
       "    .dataframe tbody tr th {\n",
       "        vertical-align: top;\n",
       "    }\n",
       "\n",
       "    .dataframe thead th {\n",
       "        text-align: right;\n",
       "    }\n",
       "</style>\n",
       "<table border=\"1\" class=\"dataframe\">\n",
       "  <thead>\n",
       "    <tr style=\"text-align: right;\">\n",
       "      <th></th>\n",
       "      <th>id</th>\n",
       "      <th>age</th>\n",
       "      <th>sex</th>\n",
       "      <th>height</th>\n",
       "      <th>weight</th>\n",
       "      <th>ap_hi</th>\n",
       "      <th>ap_lo</th>\n",
       "      <th>cholesterol</th>\n",
       "      <th>gluc</th>\n",
       "      <th>smoke</th>\n",
       "      <th>alco</th>\n",
       "      <th>active</th>\n",
       "      <th>cardio</th>\n",
       "    </tr>\n",
       "  </thead>\n",
       "  <tbody>\n",
       "    <tr>\n",
       "      <th>0</th>\n",
       "      <td>0</td>\n",
       "      <td>18393</td>\n",
       "      <td>2</td>\n",
       "      <td>168</td>\n",
       "      <td>62.0</td>\n",
       "      <td>110</td>\n",
       "      <td>80</td>\n",
       "      <td>1</td>\n",
       "      <td>1</td>\n",
       "      <td>0</td>\n",
       "      <td>0</td>\n",
       "      <td>1</td>\n",
       "      <td>0</td>\n",
       "    </tr>\n",
       "    <tr>\n",
       "      <th>1</th>\n",
       "      <td>1</td>\n",
       "      <td>20228</td>\n",
       "      <td>1</td>\n",
       "      <td>156</td>\n",
       "      <td>85.0</td>\n",
       "      <td>140</td>\n",
       "      <td>90</td>\n",
       "      <td>3</td>\n",
       "      <td>1</td>\n",
       "      <td>0</td>\n",
       "      <td>0</td>\n",
       "      <td>1</td>\n",
       "      <td>1</td>\n",
       "    </tr>\n",
       "    <tr>\n",
       "      <th>2</th>\n",
       "      <td>2</td>\n",
       "      <td>18857</td>\n",
       "      <td>1</td>\n",
       "      <td>165</td>\n",
       "      <td>64.0</td>\n",
       "      <td>130</td>\n",
       "      <td>70</td>\n",
       "      <td>3</td>\n",
       "      <td>1</td>\n",
       "      <td>0</td>\n",
       "      <td>0</td>\n",
       "      <td>0</td>\n",
       "      <td>1</td>\n",
       "    </tr>\n",
       "  </tbody>\n",
       "</table>\n",
       "</div>"
      ],
      "text/plain": [
       "   id    age  sex  height  weight  ap_hi  ap_lo  cholesterol  gluc  smoke  \\\n",
       "0   0  18393    2     168    62.0    110     80            1     1      0   \n",
       "1   1  20228    1     156    85.0    140     90            3     1      0   \n",
       "2   2  18857    1     165    64.0    130     70            3     1      0   \n",
       "\n",
       "   alco  active  cardio  \n",
       "0     0       1       0  \n",
       "1     0       1       1  \n",
       "2     0       0       1  "
      ]
     },
     "execution_count": 2,
     "metadata": {},
     "output_type": "execute_result"
    }
   ],
   "source": [
    "df = pd.read_csv('medical_examination.csv')\n",
    "df.head(3)"
   ]
  },
  {
   "cell_type": "code",
   "execution_count": 3,
   "id": "939c623c-d127-4cb9-b399-c7596a8befc7",
   "metadata": {},
   "outputs": [
    {
     "data": {
      "text/plain": [
       "(70000, 13)"
      ]
     },
     "execution_count": 3,
     "metadata": {},
     "output_type": "execute_result"
    }
   ],
   "source": [
    "df.shape"
   ]
  },
  {
   "cell_type": "code",
   "execution_count": 4,
   "id": "b8def16e-af09-4571-8825-49c6e01a8330",
   "metadata": {},
   "outputs": [
    {
     "data": {
      "text/plain": [
       "Index(['id', 'age', 'sex', 'height', 'weight', 'ap_hi', 'ap_lo', 'cholesterol',\n",
       "       'gluc', 'smoke', 'alco', 'active', 'cardio'],\n",
       "      dtype='object')"
      ]
     },
     "execution_count": 4,
     "metadata": {},
     "output_type": "execute_result"
    }
   ],
   "source": [
    "df.columns"
   ]
  },
  {
   "cell_type": "code",
   "execution_count": 7,
   "id": "5c1f25ce-3eab-4c0e-88d2-b687e99cdf12",
   "metadata": {},
   "outputs": [
    {
     "data": {
      "text/plain": [
       "id               int64\n",
       "age              int64\n",
       "sex              int64\n",
       "height           int64\n",
       "weight         float64\n",
       "ap_hi            int64\n",
       "ap_lo            int64\n",
       "cholesterol      int64\n",
       "gluc             int64\n",
       "smoke            int64\n",
       "alco             int64\n",
       "active           int64\n",
       "cardio           int64\n",
       "dtype: object"
      ]
     },
     "execution_count": 7,
     "metadata": {},
     "output_type": "execute_result"
    }
   ],
   "source": [
    "df.dtypes"
   ]
  },
  {
   "cell_type": "markdown",
   "id": "d48ef833-c64b-4b7e-9229-d6e1ab40e455",
   "metadata": {},
   "source": [
    "<h1 style='font-family:courier;color:blue;text-align:center; background-color:lightblue'>Task: 1</h1>"
   ]
  },
  {
   "cell_type": "markdown",
   "id": "107bc77b-1dc6-4d32-8025-9ce7a8c41196",
   "metadata": {},
   "source": [
    "### Calculate BMI\n",
    "\n",
    "- BMI Formula: weight (kg) / [height (m)]2"
   ]
  },
  {
   "cell_type": "code",
   "execution_count": 98,
   "id": "9d28bf52-5afd-4f7b-abf9-fcbc911f0ba4",
   "metadata": {},
   "outputs": [
    {
     "data": {
      "text/plain": [
       "0        21.967120\n",
       "1        34.927679\n",
       "2        23.507805\n",
       "3        28.710479\n",
       "4        23.011177\n",
       "           ...    \n",
       "69995    26.927438\n",
       "69996    50.472681\n",
       "69997    31.353579\n",
       "69998    27.099251\n",
       "69999    24.913495\n",
       "Length: 70000, dtype: float64"
      ]
     },
     "execution_count": 98,
     "metadata": {},
     "output_type": "execute_result"
    }
   ],
   "source": [
    "# Method (1) `np.square(df['height'] / 100)`\n",
    "# bmi = df['weight'] / np.square(df['height']/100)\n",
    "\n",
    "# Method (2): \n",
    "h = (df['height'] / 100)**2\n",
    "w = df['weight']\n",
    "bmi = w / h\n",
    "bmi"
   ]
  },
  {
   "cell_type": "markdown",
   "id": "7d1467e1-65a9-4b47-bba2-581312f35352",
   "metadata": {},
   "source": [
    "### Add `overweight` column & replace value `0 and 1`"
   ]
  },
  {
   "cell_type": "code",
   "execution_count": 106,
   "id": "e6dc46f3-2523-4c64-9728-073a7670e3bf",
   "metadata": {},
   "outputs": [
    {
     "data": {
      "text/plain": [
       "0        0\n",
       "1        1\n",
       "2        0\n",
       "3        1\n",
       "4        0\n",
       "        ..\n",
       "69995    1\n",
       "69996    1\n",
       "69997    1\n",
       "69998    1\n",
       "69999    0\n",
       "Name: overweight, Length: 70000, dtype: uint8"
      ]
     },
     "execution_count": 106,
     "metadata": {},
     "output_type": "execute_result"
    }
   ],
   "source": [
    "df['overweight'] = (bmi > 25).astype('uint8')\n",
    "df['overweight']"
   ]
  },
  {
   "cell_type": "code",
   "execution_count": 108,
   "id": "49eefb6e-c68b-436a-ac9b-8d316a8479b1",
   "metadata": {},
   "outputs": [
    {
     "data": {
      "text/html": [
       "<div>\n",
       "<style scoped>\n",
       "    .dataframe tbody tr th:only-of-type {\n",
       "        vertical-align: middle;\n",
       "    }\n",
       "\n",
       "    .dataframe tbody tr th {\n",
       "        vertical-align: top;\n",
       "    }\n",
       "\n",
       "    .dataframe thead th {\n",
       "        text-align: right;\n",
       "    }\n",
       "</style>\n",
       "<table border=\"1\" class=\"dataframe\">\n",
       "  <thead>\n",
       "    <tr style=\"text-align: right;\">\n",
       "      <th></th>\n",
       "      <th>id</th>\n",
       "      <th>age</th>\n",
       "      <th>sex</th>\n",
       "      <th>height</th>\n",
       "      <th>weight</th>\n",
       "      <th>ap_hi</th>\n",
       "      <th>ap_lo</th>\n",
       "      <th>cholesterol</th>\n",
       "      <th>gluc</th>\n",
       "      <th>smoke</th>\n",
       "      <th>alco</th>\n",
       "      <th>active</th>\n",
       "      <th>cardio</th>\n",
       "      <th>overweight</th>\n",
       "    </tr>\n",
       "  </thead>\n",
       "  <tbody>\n",
       "    <tr>\n",
       "      <th>0</th>\n",
       "      <td>0</td>\n",
       "      <td>18393</td>\n",
       "      <td>2</td>\n",
       "      <td>168</td>\n",
       "      <td>62.0</td>\n",
       "      <td>110</td>\n",
       "      <td>80</td>\n",
       "      <td>1</td>\n",
       "      <td>1</td>\n",
       "      <td>0</td>\n",
       "      <td>0</td>\n",
       "      <td>1</td>\n",
       "      <td>0</td>\n",
       "      <td>0</td>\n",
       "    </tr>\n",
       "    <tr>\n",
       "      <th>1</th>\n",
       "      <td>1</td>\n",
       "      <td>20228</td>\n",
       "      <td>1</td>\n",
       "      <td>156</td>\n",
       "      <td>85.0</td>\n",
       "      <td>140</td>\n",
       "      <td>90</td>\n",
       "      <td>3</td>\n",
       "      <td>1</td>\n",
       "      <td>0</td>\n",
       "      <td>0</td>\n",
       "      <td>1</td>\n",
       "      <td>1</td>\n",
       "      <td>1</td>\n",
       "    </tr>\n",
       "    <tr>\n",
       "      <th>2</th>\n",
       "      <td>2</td>\n",
       "      <td>18857</td>\n",
       "      <td>1</td>\n",
       "      <td>165</td>\n",
       "      <td>64.0</td>\n",
       "      <td>130</td>\n",
       "      <td>70</td>\n",
       "      <td>3</td>\n",
       "      <td>1</td>\n",
       "      <td>0</td>\n",
       "      <td>0</td>\n",
       "      <td>0</td>\n",
       "      <td>1</td>\n",
       "      <td>0</td>\n",
       "    </tr>\n",
       "  </tbody>\n",
       "</table>\n",
       "</div>"
      ],
      "text/plain": [
       "   id    age  sex  height  weight  ap_hi  ap_lo  cholesterol  gluc  smoke  \\\n",
       "0   0  18393    2     168    62.0    110     80            1     1      0   \n",
       "1   1  20228    1     156    85.0    140     90            3     1      0   \n",
       "2   2  18857    1     165    64.0    130     70            3     1      0   \n",
       "\n",
       "   alco  active  cardio  overweight  \n",
       "0     0       1       0           0  \n",
       "1     0       1       1           1  \n",
       "2     0       0       1           0  "
      ]
     },
     "execution_count": 108,
     "metadata": {},
     "output_type": "execute_result"
    }
   ],
   "source": [
    "df.head(3)"
   ]
  },
  {
   "cell_type": "markdown",
   "id": "edb0e995-6b22-47ba-bcde-e3a42caf2766",
   "metadata": {},
   "source": [
    "<h1 style='font-family:courier;color:blue;text-align:center; background-color:lightblue'>Task: 2</h1>"
   ]
  },
  {
   "cell_type": "markdown",
   "id": "517b90ad-a7d9-4303-9815-282327b0b787",
   "metadata": {
    "tags": []
   },
   "source": [
    "### Normalize the data making the value of `'colesterol' or 'gluc'`"
   ]
  },
  {
   "cell_type": "code",
   "execution_count": 120,
   "id": "536a30f8-03af-4669-bb33-e7089f1e4566",
   "metadata": {},
   "outputs": [
    {
     "data": {
      "text/plain": [
       "0        0\n",
       "1        1\n",
       "2        1\n",
       "3        0\n",
       "4        0\n",
       "        ..\n",
       "69995    0\n",
       "69996    1\n",
       "69997    1\n",
       "69998    1\n",
       "69999    1\n",
       "Length: 70000, dtype: uint8"
      ]
     },
     "execution_count": 120,
     "metadata": {},
     "output_type": "execute_result"
    }
   ],
   "source": [
    "(df['cholesterol'] | df['gluc'] != 1).astype('uint8')"
   ]
  },
  {
   "cell_type": "markdown",
   "id": "ebebff98-d45e-413a-9057-1d1ee70b1e8c",
   "metadata": {},
   "source": [
    "<h1 style='font-family:courier;color:blue;text-align:center; background-color:lightblue'>Task: 3</h1>"
   ]
  },
  {
   "cell_type": "code",
   "execution_count": 121,
   "id": "5513579d-0c4d-4e9f-8a5b-ee7c97b676c4",
   "metadata": {},
   "outputs": [
    {
     "data": {
      "text/plain": [
       "Index(['id', 'age', 'sex', 'height', 'weight', 'ap_hi', 'ap_lo', 'cholesterol',\n",
       "       'gluc', 'smoke', 'alco', 'active', 'cardio', 'overweight'],\n",
       "      dtype='object')"
      ]
     },
     "execution_count": 121,
     "metadata": {},
     "output_type": "execute_result"
    }
   ],
   "source": [
    "df.columns"
   ]
  },
  {
   "cell_type": "code",
   "execution_count": 128,
   "id": "48505ea2-a60d-419c-835a-abab8a112f05",
   "metadata": {},
   "outputs": [],
   "source": [
    "columns = [\n",
    "      'active',\n",
    "      'alco',\n",
    "      'cholesterol',\n",
    "      'gluc',\n",
    "      'overweight',\n",
    "      'smoke'\n",
    "    ]"
   ]
  },
  {
   "cell_type": "code",
   "execution_count": 130,
   "id": "26841bfe-967f-40af-bf4c-de8ea5d87655",
   "metadata": {
    "tags": []
   },
   "outputs": [
    {
     "data": {
      "text/html": [
       "<div>\n",
       "<style scoped>\n",
       "    .dataframe tbody tr th:only-of-type {\n",
       "        vertical-align: middle;\n",
       "    }\n",
       "\n",
       "    .dataframe tbody tr th {\n",
       "        vertical-align: top;\n",
       "    }\n",
       "\n",
       "    .dataframe thead th {\n",
       "        text-align: right;\n",
       "    }\n",
       "</style>\n",
       "<table border=\"1\" class=\"dataframe\">\n",
       "  <thead>\n",
       "    <tr style=\"text-align: right;\">\n",
       "      <th></th>\n",
       "      <th>cardio</th>\n",
       "      <th>variable</th>\n",
       "      <th>value</th>\n",
       "    </tr>\n",
       "  </thead>\n",
       "  <tbody>\n",
       "    <tr>\n",
       "      <th>0</th>\n",
       "      <td>0</td>\n",
       "      <td>active</td>\n",
       "      <td>1</td>\n",
       "    </tr>\n",
       "    <tr>\n",
       "      <th>1</th>\n",
       "      <td>1</td>\n",
       "      <td>active</td>\n",
       "      <td>1</td>\n",
       "    </tr>\n",
       "    <tr>\n",
       "      <th>2</th>\n",
       "      <td>1</td>\n",
       "      <td>active</td>\n",
       "      <td>0</td>\n",
       "    </tr>\n",
       "    <tr>\n",
       "      <th>3</th>\n",
       "      <td>1</td>\n",
       "      <td>active</td>\n",
       "      <td>1</td>\n",
       "    </tr>\n",
       "    <tr>\n",
       "      <th>4</th>\n",
       "      <td>0</td>\n",
       "      <td>active</td>\n",
       "      <td>0</td>\n",
       "    </tr>\n",
       "    <tr>\n",
       "      <th>...</th>\n",
       "      <td>...</td>\n",
       "      <td>...</td>\n",
       "      <td>...</td>\n",
       "    </tr>\n",
       "    <tr>\n",
       "      <th>419995</th>\n",
       "      <td>0</td>\n",
       "      <td>smoke</td>\n",
       "      <td>1</td>\n",
       "    </tr>\n",
       "    <tr>\n",
       "      <th>419996</th>\n",
       "      <td>1</td>\n",
       "      <td>smoke</td>\n",
       "      <td>0</td>\n",
       "    </tr>\n",
       "    <tr>\n",
       "      <th>419997</th>\n",
       "      <td>1</td>\n",
       "      <td>smoke</td>\n",
       "      <td>0</td>\n",
       "    </tr>\n",
       "    <tr>\n",
       "      <th>419998</th>\n",
       "      <td>1</td>\n",
       "      <td>smoke</td>\n",
       "      <td>0</td>\n",
       "    </tr>\n",
       "    <tr>\n",
       "      <th>419999</th>\n",
       "      <td>0</td>\n",
       "      <td>smoke</td>\n",
       "      <td>0</td>\n",
       "    </tr>\n",
       "  </tbody>\n",
       "</table>\n",
       "<p>420000 rows × 3 columns</p>\n",
       "</div>"
      ],
      "text/plain": [
       "        cardio variable  value\n",
       "0            0   active      1\n",
       "1            1   active      1\n",
       "2            1   active      0\n",
       "3            1   active      1\n",
       "4            0   active      0\n",
       "...        ...      ...    ...\n",
       "419995       0    smoke      1\n",
       "419996       1    smoke      0\n",
       "419997       1    smoke      0\n",
       "419998       1    smoke      0\n",
       "419999       0    smoke      0\n",
       "\n",
       "[420000 rows x 3 columns]"
      ]
     },
     "execution_count": 130,
     "metadata": {},
     "output_type": "execute_result"
    }
   ],
   "source": [
    "df_cate = pd.melt(df, id_vars=[\"cardio\"], value_vars=columns)\n",
    "df_cate"
   ]
  },
  {
   "cell_type": "code",
   "execution_count": 157,
   "id": "ca198bd2-4ffc-4a19-8616-7b8c35e36e02",
   "metadata": {},
   "outputs": [],
   "source": [
    "# Group and reformat the data to split it by 'cardio'. Show the counts of each feature. \n",
    "# You will have to rename one of the collumns for the catplot to work correctly.\n",
    "\n",
    "df_cate = df_cate.reset_index() \\\n",
    "                .groupby(['variable', 'cardio', 'value']) \\\n",
    "                .agg('count') \\\n",
    "                .rename(columns={'index': 'total'}) \\\n",
    "                .reset_index()\n"
   ]
  },
  {
   "cell_type": "code",
   "execution_count": 158,
   "id": "858c7c91-c48e-4e03-85f8-94cdae135f1d",
   "metadata": {},
   "outputs": [],
   "source": [
    "# df_cate.reset_index()\n",
    "# df_cate.groupby(['variable','cardio','value'])\n",
    "# df_cate.agg('count')\n",
    "# df_cate.rename(columns={'index':'total'})\n",
    "# df_cate.reset_index()"
   ]
  },
  {
   "cell_type": "code",
   "execution_count": 184,
   "id": "babbb24f-eabf-4cee-b374-1dfdca86cbeb",
   "metadata": {},
   "outputs": [
    {
     "data": {
      "image/png": "[encoded data removed]",
      "text/plain": [
       "<Figure size 1058.88x500 with 2 Axes>"
      ]
     },
     "metadata": {},
     "output_type": "display_data"
    }
   ],
   "source": [
    "fig = sns.catplot(x='variable', y='total', data =df_cate,\n",
    "                  kind='bar',\n",
    "                  col='cardio',\n",
    "                  hue='value').fig"
   ]
  },
  {
   "cell_type": "code",
   "execution_count": 187,
   "id": "184a6197-3f03-4725-ad8a-ee41bd2b2f4e",
   "metadata": {},
   "outputs": [],
   "source": [
    "# Save fig\n",
    "fig.savefig('catplot.png')"
   ]
  },
  {
   "cell_type": "markdown",
   "id": "89284c5f-e4e1-419c-ab28-9d7076c3f8b7",
   "metadata": {},
   "source": [
    "<h1 style='font-family:courier;color:blue;text-align:center; background-color:lightblue'>Task: 4</h1>"
   ]
  },
  {
   "cell_type": "markdown",
   "id": "e3650a59-60df-40de-a0a4-696c2c0f8212",
   "metadata": {},
   "source": [
    "- Clean the data. Filter out the following patient segments that represent incorrect data:\n",
    "\n",
    "    - diastolic pressure is higher than systolic (Keep the correct data with (df['ap_lo'] <= df['ap_hi']))\n",
    "    \n",
    "    - height is less than the 2.5th percentile (Keep the correct data with (df['height'] >= df['height'].quantile(0.025)))\n",
    "    - height is more than the 97.5th percentile\n",
    "    - weight is less than the 2.5th percentile\n",
    "    - weight is more than the 97.5th percentile"
   ]
  },
  {
   "cell_type": "code",
   "execution_count": 189,
   "id": "ec86d211-25f3-46ec-ab38-672f6d48973c",
   "metadata": {},
   "outputs": [
    {
     "data": {
      "text/plain": [
       "Index(['id', 'age', 'sex', 'height', 'weight', 'ap_hi', 'ap_lo', 'cholesterol',\n",
       "       'gluc', 'smoke', 'alco', 'active', 'cardio', 'overweight'],\n",
       "      dtype='object')"
      ]
     },
     "execution_count": 189,
     "metadata": {},
     "output_type": "execute_result"
    }
   ],
   "source": [
    "df.columns"
   ]
  },
  {
   "cell_type": "markdown",
   "id": "58cf3711-d374-4a52-a74c-d8df144d167d",
   "metadata": {},
   "source": [
    "### Clean Data"
   ]
  },
  {
   "cell_type": "markdown",
   "id": "7235ab4e-b4d1-4584-a148-c96cfed14d83",
   "metadata": {},
   "source": [
    "- **diastolic pressure is higher than systolic**"
   ]
  },
  {
   "cell_type": "code",
   "execution_count": 197,
   "id": "30f9c01b-300b-4dd4-a400-a566aed37f2a",
   "metadata": {},
   "outputs": [],
   "source": [
    "# (df['ap_lo'] <= df['ap_hi'])"
   ]
  },
  {
   "cell_type": "markdown",
   "id": "67564f55-241e-428f-85a6-09c295a6f32e",
   "metadata": {},
   "source": [
    "- **height is less than 2.5 percentile** `df['height'].quantile(0.025)`"
   ]
  },
  {
   "cell_type": "code",
   "execution_count": 198,
   "id": "aa2f9958-1648-4e2b-b5b8-23d8ced6ed64",
   "metadata": {},
   "outputs": [],
   "source": [
    "# (df['height'] >= df['height'].quantile(0.025))"
   ]
  },
  {
   "cell_type": "markdown",
   "id": "f0da3d04-67e5-447b-a7fd-b35fd87f2f66",
   "metadata": {},
   "source": [
    "- **height is more than 97.5th percentile**"
   ]
  },
  {
   "cell_type": "code",
   "execution_count": 206,
   "id": "d9e9fc23-f0e8-46af-b0eb-77aeb8181637",
   "metadata": {},
   "outputs": [],
   "source": [
    "#(df['height'] >= df['height'].quantile(0.975))"
   ]
  },
  {
   "cell_type": "markdown",
   "id": "b50ad572-62a4-4600-bc49-186603b1c4c4",
   "metadata": {},
   "source": [
    "- **height is more than 2.5th percentile**"
   ]
  },
  {
   "cell_type": "code",
   "execution_count": 207,
   "id": "44a16276-2a6e-4cec-9aad-3eb235d1c370",
   "metadata": {},
   "outputs": [],
   "source": [
    "#(df['height'] >= df['height'].quantile(0.025))"
   ]
  },
  {
   "cell_type": "markdown",
   "id": "89144fd5-f78f-4390-8e02-bf914cd87340",
   "metadata": {},
   "source": [
    "- **weight is more than 2.5th percentile**"
   ]
  },
  {
   "cell_type": "code",
   "execution_count": 211,
   "id": "f35ad821-5590-4a11-92b5-e104f5c87374",
   "metadata": {},
   "outputs": [],
   "source": [
    "# (df['weight'] >= df['weight'].quantile(0.025))"
   ]
  },
  {
   "cell_type": "markdown",
   "id": "7848108c-f23c-4db8-970e-908714c3b699",
   "metadata": {},
   "source": [
    "- **weight is more than 97.5th percentile**"
   ]
  },
  {
   "cell_type": "code",
   "execution_count": 213,
   "id": "66acf7ea-f1cd-423d-b386-5d812027246c",
   "metadata": {},
   "outputs": [],
   "source": [
    "# (df['weight'] >= df['weight'].quantile(0.975))"
   ]
  },
  {
   "cell_type": "code",
   "execution_count": 214,
   "id": "2fe1de20-35c4-4c2d-8229-11b0b2401e2a",
   "metadata": {},
   "outputs": [],
   "source": [
    "df_heat = df[\n",
    "      (df['ap_lo'] <= df['ap_hi'])\n",
    "      & (df['height'] >= df['height'].quantile(0.025))\n",
    "      & (df['height'] <= df['height'].quantile(0.975))\n",
    "      & (df['weight'] >= df['weight'].quantile(0.025))\n",
    "      & (df['weight'] <= df['weight'].quantile(0.975))\n",
    "    ]"
   ]
  },
  {
   "cell_type": "code",
   "execution_count": 216,
   "id": "b16908f3-19d2-4c5a-a5ac-56b581ba4c48",
   "metadata": {},
   "outputs": [
    {
     "data": {
      "text/html": [
       "<div>\n",
       "<style scoped>\n",
       "    .dataframe tbody tr th:only-of-type {\n",
       "        vertical-align: middle;\n",
       "    }\n",
       "\n",
       "    .dataframe tbody tr th {\n",
       "        vertical-align: top;\n",
       "    }\n",
       "\n",
       "    .dataframe thead th {\n",
       "        text-align: right;\n",
       "    }\n",
       "</style>\n",
       "<table border=\"1\" class=\"dataframe\">\n",
       "  <thead>\n",
       "    <tr style=\"text-align: right;\">\n",
       "      <th></th>\n",
       "      <th>id</th>\n",
       "      <th>age</th>\n",
       "      <th>sex</th>\n",
       "      <th>height</th>\n",
       "      <th>weight</th>\n",
       "      <th>ap_hi</th>\n",
       "      <th>ap_lo</th>\n",
       "      <th>cholesterol</th>\n",
       "      <th>gluc</th>\n",
       "      <th>smoke</th>\n",
       "      <th>alco</th>\n",
       "      <th>active</th>\n",
       "      <th>cardio</th>\n",
       "      <th>overweight</th>\n",
       "    </tr>\n",
       "  </thead>\n",
       "  <tbody>\n",
       "    <tr>\n",
       "      <th>0</th>\n",
       "      <td>0</td>\n",
       "      <td>18393</td>\n",
       "      <td>2</td>\n",
       "      <td>168</td>\n",
       "      <td>62.0</td>\n",
       "      <td>110</td>\n",
       "      <td>80</td>\n",
       "      <td>1</td>\n",
       "      <td>1</td>\n",
       "      <td>0</td>\n",
       "      <td>0</td>\n",
       "      <td>1</td>\n",
       "      <td>0</td>\n",
       "      <td>0</td>\n",
       "    </tr>\n",
       "    <tr>\n",
       "      <th>1</th>\n",
       "      <td>1</td>\n",
       "      <td>20228</td>\n",
       "      <td>1</td>\n",
       "      <td>156</td>\n",
       "      <td>85.0</td>\n",
       "      <td>140</td>\n",
       "      <td>90</td>\n",
       "      <td>3</td>\n",
       "      <td>1</td>\n",
       "      <td>0</td>\n",
       "      <td>0</td>\n",
       "      <td>1</td>\n",
       "      <td>1</td>\n",
       "      <td>1</td>\n",
       "    </tr>\n",
       "    <tr>\n",
       "      <th>2</th>\n",
       "      <td>2</td>\n",
       "      <td>18857</td>\n",
       "      <td>1</td>\n",
       "      <td>165</td>\n",
       "      <td>64.0</td>\n",
       "      <td>130</td>\n",
       "      <td>70</td>\n",
       "      <td>3</td>\n",
       "      <td>1</td>\n",
       "      <td>0</td>\n",
       "      <td>0</td>\n",
       "      <td>0</td>\n",
       "      <td>1</td>\n",
       "      <td>0</td>\n",
       "    </tr>\n",
       "  </tbody>\n",
       "</table>\n",
       "</div>"
      ],
      "text/plain": [
       "   id    age  sex  height  weight  ap_hi  ap_lo  cholesterol  gluc  smoke  \\\n",
       "0   0  18393    2     168    62.0    110     80            1     1      0   \n",
       "1   1  20228    1     156    85.0    140     90            3     1      0   \n",
       "2   2  18857    1     165    64.0    130     70            3     1      0   \n",
       "\n",
       "   alco  active  cardio  overweight  \n",
       "0     0       1       0           0  \n",
       "1     0       1       1           1  \n",
       "2     0       0       1           0  "
      ]
     },
     "execution_count": 216,
     "metadata": {},
     "output_type": "execute_result"
    }
   ],
   "source": [
    "df_heat.head(3)"
   ]
  },
  {
   "cell_type": "code",
   "execution_count": 235,
   "id": "8ed756ac-8942-4fc9-aebe-9a9f6fb3a9c2",
   "metadata": {},
   "outputs": [
    {
     "data": {
      "text/html": [
       "<div>\n",
       "<style scoped>\n",
       "    .dataframe tbody tr th:only-of-type {\n",
       "        vertical-align: middle;\n",
       "    }\n",
       "\n",
       "    .dataframe tbody tr th {\n",
       "        vertical-align: top;\n",
       "    }\n",
       "\n",
       "    .dataframe thead th {\n",
       "        text-align: right;\n",
       "    }\n",
       "</style>\n",
       "<table border=\"1\" class=\"dataframe\">\n",
       "  <thead>\n",
       "    <tr style=\"text-align: right;\">\n",
       "      <th></th>\n",
       "      <th>id</th>\n",
       "      <th>age</th>\n",
       "      <th>sex</th>\n",
       "      <th>height</th>\n",
       "      <th>weight</th>\n",
       "      <th>ap_hi</th>\n",
       "      <th>ap_lo</th>\n",
       "      <th>cholesterol</th>\n",
       "      <th>gluc</th>\n",
       "      <th>smoke</th>\n",
       "      <th>alco</th>\n",
       "      <th>active</th>\n",
       "      <th>cardio</th>\n",
       "      <th>overweight</th>\n",
       "    </tr>\n",
       "  </thead>\n",
       "  <tbody>\n",
       "    <tr>\n",
       "      <th>id</th>\n",
       "      <td>1.000000</td>\n",
       "      <td>0.002507</td>\n",
       "      <td>0.003426</td>\n",
       "      <td>0.000326</td>\n",
       "      <td>0.000149</td>\n",
       "      <td>0.003492</td>\n",
       "      <td>0.000484</td>\n",
       "      <td>0.005581</td>\n",
       "      <td>0.002242</td>\n",
       "      <td>-0.002732</td>\n",
       "      <td>-0.000708</td>\n",
       "      <td>0.005891</td>\n",
       "      <td>0.003900</td>\n",
       "      <td>-0.000679</td>\n",
       "    </tr>\n",
       "    <tr>\n",
       "      <th>age</th>\n",
       "      <td>0.002507</td>\n",
       "      <td>1.000000</td>\n",
       "      <td>-0.018132</td>\n",
       "      <td>-0.076932</td>\n",
       "      <td>0.070168</td>\n",
       "      <td>0.018689</td>\n",
       "      <td>0.153508</td>\n",
       "      <td>0.154642</td>\n",
       "      <td>0.097646</td>\n",
       "      <td>-0.044371</td>\n",
       "      <td>-0.026970</td>\n",
       "      <td>-0.011445</td>\n",
       "      <td>0.240241</td>\n",
       "      <td>0.089573</td>\n",
       "    </tr>\n",
       "    <tr>\n",
       "      <th>sex</th>\n",
       "      <td>0.003426</td>\n",
       "      <td>-0.018132</td>\n",
       "      <td>1.000000</td>\n",
       "      <td>0.505785</td>\n",
       "      <td>0.129979</td>\n",
       "      <td>0.005063</td>\n",
       "      <td>0.059947</td>\n",
       "      <td>-0.038756</td>\n",
       "      <td>-0.023419</td>\n",
       "      <td>0.337436</td>\n",
       "      <td>0.168637</td>\n",
       "      <td>0.007864</td>\n",
       "      <td>0.002320</td>\n",
       "      <td>-0.052930</td>\n",
       "    </tr>\n",
       "    <tr>\n",
       "      <th>height</th>\n",
       "      <td>0.000326</td>\n",
       "      <td>-0.076932</td>\n",
       "      <td>0.505785</td>\n",
       "      <td>1.000000</td>\n",
       "      <td>0.251503</td>\n",
       "      <td>0.004586</td>\n",
       "      <td>0.017922</td>\n",
       "      <td>-0.065980</td>\n",
       "      <td>-0.028364</td>\n",
       "      <td>0.187830</td>\n",
       "      <td>0.089785</td>\n",
       "      <td>-0.005661</td>\n",
       "      <td>-0.024102</td>\n",
       "      <td>-0.149570</td>\n",
       "    </tr>\n",
       "    <tr>\n",
       "      <th>weight</th>\n",
       "      <td>0.000149</td>\n",
       "      <td>0.070168</td>\n",
       "      <td>0.129979</td>\n",
       "      <td>0.251503</td>\n",
       "      <td>1.000000</td>\n",
       "      <td>0.027030</td>\n",
       "      <td>0.227922</td>\n",
       "      <td>0.137705</td>\n",
       "      <td>0.094133</td>\n",
       "      <td>0.056533</td>\n",
       "      <td>0.059917</td>\n",
       "      <td>-0.014430</td>\n",
       "      <td>0.170042</td>\n",
       "      <td>0.655926</td>\n",
       "    </tr>\n",
       "    <tr>\n",
       "      <th>ap_hi</th>\n",
       "      <td>0.003492</td>\n",
       "      <td>0.018689</td>\n",
       "      <td>0.005063</td>\n",
       "      <td>0.004586</td>\n",
       "      <td>0.027030</td>\n",
       "      <td>1.000000</td>\n",
       "      <td>0.072803</td>\n",
       "      <td>0.021499</td>\n",
       "      <td>0.010226</td>\n",
       "      <td>-0.001928</td>\n",
       "      <td>0.000769</td>\n",
       "      <td>-0.000222</td>\n",
       "      <td>0.050556</td>\n",
       "      <td>0.017327</td>\n",
       "    </tr>\n",
       "    <tr>\n",
       "      <th>ap_lo</th>\n",
       "      <td>0.000484</td>\n",
       "      <td>0.153508</td>\n",
       "      <td>0.059947</td>\n",
       "      <td>0.017922</td>\n",
       "      <td>0.227922</td>\n",
       "      <td>0.072803</td>\n",
       "      <td>1.000000</td>\n",
       "      <td>0.154348</td>\n",
       "      <td>0.067048</td>\n",
       "      <td>0.023275</td>\n",
       "      <td>0.033042</td>\n",
       "      <td>0.001569</td>\n",
       "      <td>0.327181</td>\n",
       "      <td>0.172212</td>\n",
       "    </tr>\n",
       "    <tr>\n",
       "      <th>cholesterol</th>\n",
       "      <td>0.005581</td>\n",
       "      <td>0.154642</td>\n",
       "      <td>-0.038756</td>\n",
       "      <td>-0.065980</td>\n",
       "      <td>0.137705</td>\n",
       "      <td>0.021499</td>\n",
       "      <td>0.154348</td>\n",
       "      <td>1.000000</td>\n",
       "      <td>0.451388</td>\n",
       "      <td>0.005696</td>\n",
       "      <td>0.031050</td>\n",
       "      <td>0.007381</td>\n",
       "      <td>0.219090</td>\n",
       "      <td>0.124846</td>\n",
       "    </tr>\n",
       "    <tr>\n",
       "      <th>gluc</th>\n",
       "      <td>0.002242</td>\n",
       "      <td>0.097646</td>\n",
       "      <td>-0.023419</td>\n",
       "      <td>-0.028364</td>\n",
       "      <td>0.094133</td>\n",
       "      <td>0.010226</td>\n",
       "      <td>0.067048</td>\n",
       "      <td>0.451388</td>\n",
       "      <td>1.000000</td>\n",
       "      <td>-0.010225</td>\n",
       "      <td>0.005805</td>\n",
       "      <td>-0.007709</td>\n",
       "      <td>0.087621</td>\n",
       "      <td>0.076303</td>\n",
       "    </tr>\n",
       "    <tr>\n",
       "      <th>smoke</th>\n",
       "      <td>-0.002732</td>\n",
       "      <td>-0.044371</td>\n",
       "      <td>0.337436</td>\n",
       "      <td>0.187830</td>\n",
       "      <td>0.056533</td>\n",
       "      <td>-0.001928</td>\n",
       "      <td>0.023275</td>\n",
       "      <td>0.005696</td>\n",
       "      <td>-0.010225</td>\n",
       "      <td>1.000000</td>\n",
       "      <td>0.341200</td>\n",
       "      <td>0.026940</td>\n",
       "      <td>-0.020345</td>\n",
       "      <td>-0.003274</td>\n",
       "    </tr>\n",
       "    <tr>\n",
       "      <th>alco</th>\n",
       "      <td>-0.000708</td>\n",
       "      <td>-0.026970</td>\n",
       "      <td>0.168637</td>\n",
       "      <td>0.089785</td>\n",
       "      <td>0.059917</td>\n",
       "      <td>0.000769</td>\n",
       "      <td>0.033042</td>\n",
       "      <td>0.031050</td>\n",
       "      <td>0.005805</td>\n",
       "      <td>0.341200</td>\n",
       "      <td>1.000000</td>\n",
       "      <td>0.025847</td>\n",
       "      <td>-0.011088</td>\n",
       "      <td>0.025056</td>\n",
       "    </tr>\n",
       "    <tr>\n",
       "      <th>active</th>\n",
       "      <td>0.005891</td>\n",
       "      <td>-0.011445</td>\n",
       "      <td>0.007864</td>\n",
       "      <td>-0.005661</td>\n",
       "      <td>-0.014430</td>\n",
       "      <td>-0.000222</td>\n",
       "      <td>0.001569</td>\n",
       "      <td>0.007381</td>\n",
       "      <td>-0.007709</td>\n",
       "      <td>0.026940</td>\n",
       "      <td>0.025847</td>\n",
       "      <td>1.000000</td>\n",
       "      <td>-0.037339</td>\n",
       "      <td>-0.003387</td>\n",
       "    </tr>\n",
       "    <tr>\n",
       "      <th>cardio</th>\n",
       "      <td>0.003900</td>\n",
       "      <td>0.240241</td>\n",
       "      <td>0.002320</td>\n",
       "      <td>-0.024102</td>\n",
       "      <td>0.170042</td>\n",
       "      <td>0.050556</td>\n",
       "      <td>0.327181</td>\n",
       "      <td>0.219090</td>\n",
       "      <td>0.087621</td>\n",
       "      <td>-0.020345</td>\n",
       "      <td>-0.011088</td>\n",
       "      <td>-0.037339</td>\n",
       "      <td>1.000000</td>\n",
       "      <td>0.143168</td>\n",
       "    </tr>\n",
       "    <tr>\n",
       "      <th>overweight</th>\n",
       "      <td>-0.000679</td>\n",
       "      <td>0.089573</td>\n",
       "      <td>-0.052930</td>\n",
       "      <td>-0.149570</td>\n",
       "      <td>0.655926</td>\n",
       "      <td>0.017327</td>\n",
       "      <td>0.172212</td>\n",
       "      <td>0.124846</td>\n",
       "      <td>0.076303</td>\n",
       "      <td>-0.003274</td>\n",
       "      <td>0.025056</td>\n",
       "      <td>-0.003387</td>\n",
       "      <td>0.143168</td>\n",
       "      <td>1.000000</td>\n",
       "    </tr>\n",
       "  </tbody>\n",
       "</table>\n",
       "</div>"
      ],
      "text/plain": [
       "                   id       age       sex    height    weight     ap_hi  \\\n",
       "id           1.000000  0.002507  0.003426  0.000326  0.000149  0.003492   \n",
       "age          0.002507  1.000000 -0.018132 -0.076932  0.070168  0.018689   \n",
       "sex          0.003426 -0.018132  1.000000  0.505785  0.129979  0.005063   \n",
       "height       0.000326 -0.076932  0.505785  1.000000  0.251503  0.004586   \n",
       "weight       0.000149  0.070168  0.129979  0.251503  1.000000  0.027030   \n",
       "ap_hi        0.003492  0.018689  0.005063  0.004586  0.027030  1.000000   \n",
       "ap_lo        0.000484  0.153508  0.059947  0.017922  0.227922  0.072803   \n",
       "cholesterol  0.005581  0.154642 -0.038756 -0.065980  0.137705  0.021499   \n",
       "gluc         0.002242  0.097646 -0.023419 -0.028364  0.094133  0.010226   \n",
       "smoke       -0.002732 -0.044371  0.337436  0.187830  0.056533 -0.001928   \n",
       "alco        -0.000708 -0.026970  0.168637  0.089785  0.059917  0.000769   \n",
       "active       0.005891 -0.011445  0.007864 -0.005661 -0.014430 -0.000222   \n",
       "cardio       0.003900  0.240241  0.002320 -0.024102  0.170042  0.050556   \n",
       "overweight  -0.000679  0.089573 -0.052930 -0.149570  0.655926  0.017327   \n",
       "\n",
       "                ap_lo  cholesterol      gluc     smoke      alco    active  \\\n",
       "id           0.000484     0.005581  0.002242 -0.002732 -0.000708  0.005891   \n",
       "age          0.153508     0.154642  0.097646 -0.044371 -0.026970 -0.011445   \n",
       "sex          0.059947    -0.038756 -0.023419  0.337436  0.168637  0.007864   \n",
       "height       0.017922    -0.065980 -0.028364  0.187830  0.089785 -0.005661   \n",
       "weight       0.227922     0.137705  0.094133  0.056533  0.059917 -0.014430   \n",
       "ap_hi        0.072803     0.021499  0.010226 -0.001928  0.000769 -0.000222   \n",
       "ap_lo        1.000000     0.154348  0.067048  0.023275  0.033042  0.001569   \n",
       "cholesterol  0.154348     1.000000  0.451388  0.005696  0.031050  0.007381   \n",
       "gluc         0.067048     0.451388  1.000000 -0.010225  0.005805 -0.007709   \n",
       "smoke        0.023275     0.005696 -0.010225  1.000000  0.341200  0.026940   \n",
       "alco         0.033042     0.031050  0.005805  0.341200  1.000000  0.025847   \n",
       "active       0.001569     0.007381 -0.007709  0.026940  0.025847  1.000000   \n",
       "cardio       0.327181     0.219090  0.087621 -0.020345 -0.011088 -0.037339   \n",
       "overweight   0.172212     0.124846  0.076303 -0.003274  0.025056 -0.003387   \n",
       "\n",
       "               cardio  overweight  \n",
       "id           0.003900   -0.000679  \n",
       "age          0.240241    0.089573  \n",
       "sex          0.002320   -0.052930  \n",
       "height      -0.024102   -0.149570  \n",
       "weight       0.170042    0.655926  \n",
       "ap_hi        0.050556    0.017327  \n",
       "ap_lo        0.327181    0.172212  \n",
       "cholesterol  0.219090    0.124846  \n",
       "gluc         0.087621    0.076303  \n",
       "smoke       -0.020345   -0.003274  \n",
       "alco        -0.011088    0.025056  \n",
       "active      -0.037339   -0.003387  \n",
       "cardio       1.000000    0.143168  \n",
       "overweight   0.143168    1.000000  "
      ]
     },
     "execution_count": 235,
     "metadata": {},
     "output_type": "execute_result"
    }
   ],
   "source": [
    "corr = df_heat.corr(method='pearson')\n",
    "corr"
   ]
  },
  {
   "cell_type": "code",
   "execution_count": 236,
   "id": "24ca4c66-8e31-4551-9a44-53774c703efe",
   "metadata": {},
   "outputs": [
    {
     "data": {
      "text/plain": [
       "<AxesSubplot:>"
      ]
     },
     "execution_count": 236,
     "metadata": {},
     "output_type": "execute_result"
    },
    {
     "data": {
      "image/png": "[encoded data removed]",
      "text/plain": [
       "<Figure size 640x480 with 2 Axes>"
      ]
     },
     "metadata": {},
     "output_type": "display_data"
    }
   ],
   "source": [
    "# Draft\n",
    "sns.heatmap(corr,\n",
    "           annot=True, fmt='.1f',\n",
    "            center=0, vmin=-0.5, vmax=0.5)"
   ]
  },
  {
   "cell_type": "markdown",
   "id": "e252b300-664c-4da6-82da-770dc536aad8",
   "metadata": {},
   "source": [
    "### Mask the upper triangle"
   ]
  },
  {
   "cell_type": "code",
   "execution_count": 228,
   "id": "3ba41c28-0f7d-4d3e-95fd-4d1ff8e49a24",
   "metadata": {},
   "outputs": [],
   "source": [
    " # Generate a mask for the upper triangle\n",
    "mask = np.zeros_like(corr)\n",
    "mask[np.triu_indices_from(mask)] = True"
   ]
  },
  {
   "cell_type": "code",
   "execution_count": 229,
   "id": "f4a3805f-8b5c-4669-9608-56b4d4fb07a0",
   "metadata": {},
   "outputs": [
    {
     "data": {
      "text/plain": [
       "<Figure size 1200x600 with 0 Axes>"
      ]
     },
     "metadata": {},
     "output_type": "display_data"
    }
   ],
   "source": [
    "fig = plt.figure(figsize=(12,6))"
   ]
  },
  {
   "cell_type": "code",
   "execution_count": 230,
   "id": "c8dccfad-a0e7-464b-95fe-cbe23dd22150",
   "metadata": {},
   "outputs": [
    {
     "data": {
      "text/plain": [
       "<AxesSubplot:>"
      ]
     },
     "execution_count": 230,
     "metadata": {},
     "output_type": "execute_result"
    },
    {
     "data": {
      "image/png": "[encoded data removed]",
      "text/plain": [
       "<Figure size 640x480 with 2 Axes>"
      ]
     },
     "metadata": {},
     "output_type": "display_data"
    }
   ],
   "source": [
    "sns.heatmap(corr, mask=mask,\n",
    "                annot=True, fmt='.1f',\n",
    "                center=0, vmin=-0.5, vmax=0.5)"
   ]
  },
  {
   "cell_type": "markdown",
   "id": "37a6d6a5-27a7-4e42-bdc2-c17e411c6f39",
   "metadata": {},
   "source": [
    "### Save Figure"
   ]
  },
  {
   "cell_type": "code",
   "execution_count": 237,
   "id": "ac48665b-3a80-4427-a6c9-ea151fe68ec5",
   "metadata": {},
   "outputs": [],
   "source": [
    "fig.savefig('heatmap.png')"
   ]
  }
 ],
 "metadata": {
  "kernelspec": {
   "display_name": "Python 3 (ipykernel)",
   "language": "python",
   "name": "python3"
  },
  "language_info": {
   "codemirror_mode": {
    "name": "ipython",
    "version": 3
   },
   "file_extension": ".py",
   "mimetype": "text/x-python",
   "name": "python",
   "nbconvert_exporter": "python",
   "pygments_lexer": "ipython3",
   "version": "3.10.6"
  }
 },
 "nbformat": 4,
 "nbformat_minor": 5
}
